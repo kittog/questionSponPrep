{
 "cells": [
  {
   "cell_type": "code",
   "execution_count": 6,
   "metadata": {},
   "outputs": [
    {
     "name": "stdout",
     "output_type": "stream",
     "text": [
      "12.147773279352228\n"
     ]
    }
   ],
   "source": [
    "def average_word_count(filename):\n",
    "    with open(filename, 'r') as f:\n",
    "        lines = f.readlines()\n",
    "        total_word_count = 0\n",
    "        num_lines = len(lines)\n",
    "        for line in lines:\n",
    "            words = line.split()\n",
    "            total_word_count += len(words)\n",
    "        return total_word_count / num_lines\n",
    "        \n",
    "filename = \"questions_prepare_clean.txt\"\n",
    "avg_word_count = average_word_count(filename)\n",
    "print(avg_word_count)"
   ]
  },
  {
   "cell_type": "code",
   "execution_count": 5,
   "metadata": {},
   "outputs": [
    {
     "name": "stdout",
     "output_type": "stream",
     "text": [
      "9.974496644295302\n"
     ]
    }
   ],
   "source": [
    "def average_word_count(filename):\n",
    "    with open(filename, 'r') as f:\n",
    "        lines = f.readlines()\n",
    "        total_word_count = 0\n",
    "        num_lines = len(lines)\n",
    "        for line in lines:\n",
    "            words = line.split()\n",
    "            total_word_count += len(words)\n",
    "        return total_word_count / num_lines\n",
    "        \n",
    "filename = \"questions_spontané_clean.txt\"\n",
    "avg_word_count = average_word_count(filename)\n",
    "print(avg_word_count)"
   ]
  },
  {
   "cell_type": "code",
   "execution_count": 20,
   "metadata": {},
   "outputs": [
    {
     "name": "stdout",
     "output_type": "stream",
     "text": [
      "nb questions de 5 mots ou moins dans le fichier questions_prepare_clean.txt est: 81\n",
      "% questions <=5 questions_prepare_clean.txt est: 16.39676113360324 %\n"
     ]
    }
   ],
   "source": [
    "import string\n",
    "\n",
    "def count_short_sentences(filename):\n",
    "    with open(filename, 'r') as f:\n",
    "        lines = f.readlines()\n",
    "        count = 0\n",
    "        for line in lines:\n",
    "            # Retirer la ponctuation\n",
    "            line = line.translate(str.maketrans('', '', string.punctuation))\n",
    "            # Diviser la ligne en mots\n",
    "            words = line.split()\n",
    "            # Compter le nombre de mots et vérifier si c'est inférieur ou égal à 5\n",
    "            if len(words) <= 5:\n",
    "                count += 1\n",
    "        return count\n",
    "    \n",
    "def calculate_percentage_short_sentences(filename):\n",
    "    with open(filename, 'r') as f:\n",
    "        lines = f.readlines()\n",
    "        total_num_sentences = len(lines)\n",
    "        num_short_sentences = count_short_sentences(filename)\n",
    "        percentage = (num_short_sentences / total_num_sentences) * 100\n",
    "        return percentage    \n",
    "        \n",
    "filename = \"questions_prepare_clean.txt\"\n",
    "short_sentence_count = count_short_sentences(filename)\n",
    "print(\"nb questions de 5 mots ou moins dans le fichier\", filename, \"est:\", short_sentence_count)\n",
    "\n",
    "filename = \"questions_prepare_clean.txt\"\n",
    "percentage_short_sentences = calculate_percentage_short_sentences(filename)\n",
    "print(\"% questions <=5\", filename, \"est:\", percentage_short_sentences, \"%\")\n"
   ]
  },
  {
   "cell_type": "code",
   "execution_count": 23,
   "metadata": {},
   "outputs": [
    {
     "name": "stdout",
     "output_type": "stream",
     "text": [
      "nb questions <=5 questions_spontané_clean.txt est: 249\n",
      "33.422818791946305\n"
     ]
    }
   ],
   "source": [
    "import string\n",
    "\n",
    "def count_short_sentences(filename):\n",
    "    with open(filename, 'r') as f:\n",
    "        lines = f.readlines()\n",
    "        count = 0\n",
    "        for line in lines:\n",
    "            # Retirer la ponctuation\n",
    "            line = line.translate(str.maketrans('', '', string.punctuation))\n",
    "            # Diviser la ligne en mots\n",
    "            words = line.split()\n",
    "            # Compter le nombre de mots et vérifier si c'est inférieur ou égal à 5\n",
    "            if len(words) <= 5:\n",
    "                count += 1\n",
    "        return count\n",
    "    \n",
    "def calculate_percentage_short_sentences(filename):\n",
    "    with open(filename, 'r') as f:\n",
    "        lines = f.readlines()\n",
    "        total_num_sentences = len(lines)\n",
    "        num_short_sentences = count_short_sentences(filename)\n",
    "        percentage = (num_short_sentences / total_num_sentences) * 100\n",
    "        return percentage    \n",
    "        \n",
    "filename = \"questions_spontané_clean.txt\"\n",
    "short_sentence_count = count_short_sentences(filename)\n",
    "print(\"nb questions <=5\", filename, \"est:\", short_sentence_count)\n",
    "\n",
    "filename = \"questions_spontané_clean.txt\"\n",
    "percentage_short_sentences = calculate_percentage_short_sentences(filename)\n",
    "print(percentage_short_sentences)\n"
   ]
  }
 ],
 "metadata": {
  "kernelspec": {
   "display_name": "Python 3",
   "language": "python",
   "name": "python3"
  },
  "language_info": {
   "codemirror_mode": {
    "name": "ipython",
    "version": 3
   },
   "file_extension": ".py",
   "mimetype": "text/x-python",
   "name": "python",
   "nbconvert_exporter": "python",
   "pygments_lexer": "ipython3",
   "version": "3.7.0"
  }
 },
 "nbformat": 4,
 "nbformat_minor": 2
}
