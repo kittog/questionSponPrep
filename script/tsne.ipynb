{
 "cells": [
  {
   "cell_type": "code",
   "execution_count": 7,
   "metadata": {},
   "outputs": [],
   "source": [
    "import matplotlib.pyplot as plt\n",
    "from sklearn.cluster import KMeans\n",
    "from sklearn.feature_extraction.text import TfidfVectorizer\n",
    "from sklearn.manifold import TSNE\n",
    "from numpy import concatenate\n",
    "import numpy\n",
    "import pandas as pd\n",
    "from nltk.tokenize import RegexpTokenizer\n",
    "from nltk.stem.snowball import FrenchStemmer\n",
    "import nltk\n",
    "from nltk.corpus import stopwords"
   ]
  },
  {
   "cell_type": "code",
   "execution_count": 8,
   "metadata": {},
   "outputs": [],
   "source": [
    "train = pd.read_csv(\"../data/questions_spon_clean.csv\")\n"
   ]
  },
  {
   "cell_type": "code",
   "execution_count": 9,
   "metadata": {},
   "outputs": [
    {
     "name": "stderr",
     "output_type": "stream",
     "text": [
      "/home/lena/.local/lib/python3.10/site-packages/sklearn/cluster/_kmeans.py:870: FutureWarning: The default value of `n_init` will change from 10 to 'auto' in 1.4. Set the value of `n_init` explicitly to suppress the warning\n",
      "  warnings.warn(\n"
     ]
    },
    {
     "ename": "ValueError",
     "evalue": "perplexity must be less than n_samples",
     "output_type": "error",
     "traceback": [
      "\u001b[0;31m---------------------------------------------------------------------------\u001b[0m",
      "\u001b[0;31mValueError\u001b[0m                                Traceback (most recent call last)",
      "Cell \u001b[0;32mIn[9], line 22\u001b[0m\n\u001b[1;32m     17\u001b[0m tsne_learning_rate \u001b[39m=\u001b[39m \u001b[39m10\u001b[39m\n\u001b[1;32m     18\u001b[0m model \u001b[39m=\u001b[39m TSNE(n_components\u001b[39m=\u001b[39m\u001b[39m2\u001b[39m, random_state\u001b[39m=\u001b[39mrandom_state, init\u001b[39m=\u001b[39mtsne_init,\n\u001b[1;32m     19\u001b[0m              perplexity\u001b[39m=\u001b[39mtsne_perplexity,\n\u001b[1;32m     20\u001b[0m              early_exaggeration\u001b[39m=\u001b[39mtsne_early_exaggeration, learning_rate\u001b[39m=\u001b[39mtsne_learning_rate)\n\u001b[0;32m---> 22\u001b[0m transformed_everything \u001b[39m=\u001b[39m model\u001b[39m.\u001b[39;49mfit_transform(numpy\u001b[39m.\u001b[39;49masarray(everything))\n\u001b[1;32m     23\u001b[0m \u001b[39mprint\u001b[39m(transformed_everything)\n\u001b[1;32m     24\u001b[0m plt\u001b[39m.\u001b[39mscatter(transformed_everything[:\u001b[39m-\u001b[39mn_clusters, \u001b[39m0\u001b[39m],\n\u001b[1;32m     25\u001b[0m             transformed_everything[:\u001b[39m-\u001b[39mn_clusters, \u001b[39m1\u001b[39m], marker\u001b[39m=\u001b[39m\u001b[39m'\u001b[39m\u001b[39mx\u001b[39m\u001b[39m'\u001b[39m)\n",
      "File \u001b[0;32m~/.local/lib/python3.10/site-packages/sklearn/manifold/_t_sne.py:1118\u001b[0m, in \u001b[0;36mTSNE.fit_transform\u001b[0;34m(self, X, y)\u001b[0m\n\u001b[1;32m   1097\u001b[0m \u001b[39m\u001b[39m\u001b[39m\"\"\"Fit X into an embedded space and return that transformed output.\u001b[39;00m\n\u001b[1;32m   1098\u001b[0m \n\u001b[1;32m   1099\u001b[0m \u001b[39mParameters\u001b[39;00m\n\u001b[0;32m   (...)\u001b[0m\n\u001b[1;32m   1115\u001b[0m \u001b[39m    Embedding of the training data in low-dimensional space.\u001b[39;00m\n\u001b[1;32m   1116\u001b[0m \u001b[39m\"\"\"\u001b[39;00m\n\u001b[1;32m   1117\u001b[0m \u001b[39mself\u001b[39m\u001b[39m.\u001b[39m_validate_params()\n\u001b[0;32m-> 1118\u001b[0m \u001b[39mself\u001b[39;49m\u001b[39m.\u001b[39;49m_check_params_vs_input(X)\n\u001b[1;32m   1119\u001b[0m embedding \u001b[39m=\u001b[39m \u001b[39mself\u001b[39m\u001b[39m.\u001b[39m_fit(X)\n\u001b[1;32m   1120\u001b[0m \u001b[39mself\u001b[39m\u001b[39m.\u001b[39membedding_ \u001b[39m=\u001b[39m embedding\n",
      "File \u001b[0;32m~/.local/lib/python3.10/site-packages/sklearn/manifold/_t_sne.py:829\u001b[0m, in \u001b[0;36mTSNE._check_params_vs_input\u001b[0;34m(self, X)\u001b[0m\n\u001b[1;32m    827\u001b[0m \u001b[39mdef\u001b[39;00m \u001b[39m_check_params_vs_input\u001b[39m(\u001b[39mself\u001b[39m, X):\n\u001b[1;32m    828\u001b[0m     \u001b[39mif\u001b[39;00m \u001b[39mself\u001b[39m\u001b[39m.\u001b[39mperplexity \u001b[39m>\u001b[39m\u001b[39m=\u001b[39m X\u001b[39m.\u001b[39mshape[\u001b[39m0\u001b[39m]:\n\u001b[0;32m--> 829\u001b[0m         \u001b[39mraise\u001b[39;00m \u001b[39mValueError\u001b[39;00m(\u001b[39m\"\u001b[39m\u001b[39mperplexity must be less than n_samples\u001b[39m\u001b[39m\"\u001b[39m)\n",
      "\u001b[0;31mValueError\u001b[0m: perplexity must be less than n_samples"
     ]
    }
   ],
   "source": [
    "tokenizer = RegexpTokenizer(r\"\\w+\")\n",
    "stemmer = FrenchStemmer()\n",
    "stopword_fr = stopwords.words('french')\n",
    "vectorizer = TfidfVectorizer()\n",
    "X = vectorizer.fit_transform(train)\n",
    "n_clusters = 2\n",
    "random_state = 1\n",
    "clf = KMeans(n_clusters=n_clusters, random_state=random_state)\n",
    "data = clf.fit(X)\n",
    "centroids = clf.cluster_centers_\n",
    "# we want to transform the rows and the centroids\n",
    "everything = concatenate((X.todense(), centroids))\n",
    "\n",
    "tsne_init = 'pca'  # could also be 'random'\n",
    "tsne_perplexity = 20.0\n",
    "tsne_early_exaggeration = 4.0\n",
    "tsne_learning_rate = 10\n",
    "model = TSNE(n_components=2, random_state=random_state, init=tsne_init,\n",
    "             perplexity=tsne_perplexity,\n",
    "             early_exaggeration=tsne_early_exaggeration, learning_rate=tsne_learning_rate)\n",
    "\n",
    "transformed_everything = model.fit_transform(numpy.asarray(everything))\n",
    "print(transformed_everything)\n",
    "plt.scatter(transformed_everything[:-n_clusters, 0],\n",
    "            transformed_everything[:-n_clusters, 1], marker='x')\n",
    "plt.scatter(transformed_everything[-n_clusters:, 0],\n",
    "            transformed_everything[-n_clusters:, 1], marker='o')\n",
    "\n",
    "plt.show()\n"
   ]
  }
 ],
 "metadata": {
  "kernelspec": {
   "display_name": "Python 3",
   "language": "python",
   "name": "python3"
  },
  "language_info": {
   "codemirror_mode": {
    "name": "ipython",
    "version": 3
   },
   "file_extension": ".py",
   "mimetype": "text/x-python",
   "name": "python",
   "nbconvert_exporter": "python",
   "pygments_lexer": "ipython3",
   "version": "3.10.6"
  },
  "orig_nbformat": 4,
  "vscode": {
   "interpreter": {
    "hash": "916dbcbb3f70747c44a77c7bcd40155683ae19c65e1c03b4aa3499c5328201f1"
   }
  }
 },
 "nbformat": 4,
 "nbformat_minor": 2
}
