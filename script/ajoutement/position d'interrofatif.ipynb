{
 "cells": [
  {
   "cell_type": "code",
   "execution_count": 5,
   "id": "0a6e19e5",
   "metadata": {},
   "outputs": [
    {
     "name": "stdout",
     "output_type": "stream",
     "text": [
      "début：50\n",
      "milieu：161\n",
      "fin：0\n"
     ]
    }
   ],
   "source": [
    "with open('questions_spon_clean.txt', 'r', encoding='utf-8') as file:\n",
    "    corpus = file.readlines()\n",
    "    \n",
    "interrogative_words = ['qui', 'quoi', 'où', 'quand', 'comment', 'pourquoi', 'est-ce']\n",
    "start_count = 0\n",
    "middle_count = 0\n",
    "end_count = 0\n",
    "\n",
    "for sentence in corpus:\n",
    "    sentence = sentence.strip()  \n",
    "    words = sentence.split()  \n",
    "\n",
    "    if words[0] in interrogative_words:     #on vérifie si au début\n",
    "        start_count += 1\n",
    "\n",
    "    if words[-1] in interrogative_words:  #on vérifie si à la fin\n",
    "        end_count += 1\n",
    "\n",
    "    for word in words[1:-1]:  \n",
    "        if word in interrogative_words:   #on vérifie si au mileu\n",
    "            middle_count += 1\n",
    "            break  \n",
    "print(f\"début：{start_count}\")\n",
    "print(f\"milieu：{middle_count}\")\n",
    "print(f\"fin：{end_count}\")\n",
    "\n"
   ]
  },
  {
   "cell_type": "code",
   "execution_count": 6,
   "id": "f5d877c0",
   "metadata": {},
   "outputs": [
    {
     "name": "stdout",
     "output_type": "stream",
     "text": [
      "début：98\n",
      "milieu：181\n",
      "fin：0\n"
     ]
    }
   ],
   "source": [
    "with open('questions_prepare_clean.txt', 'r', encoding='utf-8') as file:\n",
    "    corpus = file.readlines()\n",
    "    \n",
    "interrogative_words = ['qui', 'quoi', 'où', 'quand', 'comment', 'pourquoi', 'est-ce']\n",
    "start_count = 0\n",
    "middle_count = 0\n",
    "end_count = 0\n",
    "\n",
    "for sentence in corpus:\n",
    "    sentence = sentence.strip()  \n",
    "    words = sentence.split()  \n",
    "\n",
    "    if words[0] in interrogative_words:   #on vérifie si au début\n",
    "        start_count += 1\n",
    "\n",
    "    if words[-1] in interrogative_words:  #on vérifie si à la fin \n",
    "        end_count += 1\n",
    "\n",
    "    for word in words[1:-1]: \n",
    "        if word in interrogative_words:  #on vérifie si au mileu\n",
    "            middle_count += 1\n",
    "            break  \n",
    "print(f\"début：{start_count}\")\n",
    "print(f\"milieu：{middle_count}\")\n",
    "print(f\"fin：{end_count}\")\n",
    "\n"
   ]
  },
  {
   "cell_type": "code",
   "execution_count": null,
   "id": "668cba8e",
   "metadata": {},
   "outputs": [],
   "source": []
  }
 ],
 "metadata": {
  "kernelspec": {
   "display_name": "Python 3 (ipykernel)",
   "language": "python",
   "name": "python3"
  },
  "language_info": {
   "codemirror_mode": {
    "name": "ipython",
    "version": 3
   },
   "file_extension": ".py",
   "mimetype": "text/x-python",
   "name": "python",
   "nbconvert_exporter": "python",
   "pygments_lexer": "ipython3",
   "version": "3.9.13"
  }
 },
 "nbformat": 4,
 "nbformat_minor": 5
}
