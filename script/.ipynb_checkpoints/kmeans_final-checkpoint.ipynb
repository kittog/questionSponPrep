{
 "cells": [
  {
   "cell_type": "code",
   "execution_count": 17,
   "metadata": {},
   "outputs": [],
   "source": [
    "import pandas as pd\n",
    "import numpy as np\n",
    "\n",
    "from sklearn.feature_extraction.text import TfidfVectorizer\n",
    "from sklearn.cluster import KMeans\n",
    "from sklearn.metrics import adjusted_rand_score"
   ]
  },
  {
   "cell_type": "code",
   "execution_count": 18,
   "metadata": {},
   "outputs": [],
   "source": [
    "data_spon = pd.read_csv(\"corpus_prep.csv\")\n",
    "data_prep = pd.read_csv(\"corpus_spon.csv\")"
   ]
  },
  {
   "cell_type": "code",
   "execution_count": 19,
   "metadata": {},
   "outputs": [],
   "source": [
    "data_spon_q = data_spon[\"question\"]\n",
    "data_prep_q = data_prep[\"question\"]"
   ]
  },
  {
   "cell_type": "code",
   "execution_count": 27,
   "metadata": {},
   "outputs": [],
   "source": [
    "from nltk.corpus import stopwords\n",
    "stopwords_fr = stopwords.words('french')\n",
    "vectorizer = TfidfVectorizer(stop_words=stopwords_fr)\n",
    "X = vectorizer.fit_transform(data_prep_q)"
   ]
  },
  {
   "cell_type": "code",
   "execution_count": 28,
   "metadata": {},
   "outputs": [
    {
     "name": "stdout",
     "output_type": "stream",
     "text": [
      "  (0, 965)\t0.6006539066251334\n",
      "  (0, 671)\t0.7995091522027534\n",
      "  (1, 894)\t0.6022253935791836\n",
      "  (1, 155)\t0.4952649232461837\n",
      "  (1, 329)\t0.6261287656148288\n",
      "  (2, 175)\t0.7598297283344863\n",
      "  (2, 743)\t0.4881927297449918\n",
      "  (2, 965)\t0.42933278766392163\n",
      "  (3, 263)\t0.6520737801612373\n",
      "  (3, 887)\t0.5636940565210466\n",
      "  (3, 445)\t0.506999798687417\n",
      "  (4, 474)\t0.5300195634039386\n",
      "  (4, 65)\t0.5300195634039386\n",
      "  (4, 438)\t0.5638360873629326\n",
      "  (4, 35)\t0.34676705640163696\n",
      "  (5, 185)\t0.593200223268166\n",
      "  (5, 967)\t0.4816882122250728\n",
      "  (5, 631)\t0.6450503556452094\n",
      "  (6, 725)\t0.8103315681082948\n",
      "  (6, 320)\t0.5859716287732298\n",
      "  (7, 970)\t1.0\n",
      "  (8, 666)\t0.5104851291054449\n",
      "  (8, 473)\t0.4521660182670899\n",
      "  (8, 651)\t0.3562977869333019\n",
      "  (8, 234)\t0.5104851291054449\n",
      "  :\t:\n",
      "  (631, 70)\t0.3787740248501276\n",
      "  (631, 493)\t0.3787740248501276\n",
      "  (631, 788)\t0.33993858237855434\n",
      "  (631, 577)\t0.23726325741744508\n",
      "  (631, 282)\t0.31722130483377026\n",
      "  (631, 441)\t0.28326090971177054\n",
      "  (631, 75)\t0.24976547742642644\n",
      "  (631, 81)\t0.30110313990698107\n",
      "  (631, 970)\t0.25263932274994916\n",
      "  (632, 713)\t0.3201772217794713\n",
      "  (632, 788)\t0.2873496695679785\n",
      "  (632, 747)\t0.3009743347452822\n",
      "  (632, 102)\t0.2873496695679785\n",
      "  (632, 885)\t0.4271114235055163\n",
      "  (632, 398)\t0.4049833562216078\n",
      "  (632, 2)\t0.19352914923097417\n",
      "  (632, 441)\t0.23944010190805928\n",
      "  (632, 801)\t0.22801863149943413\n",
      "  (632, 26)\t0.2545221173564858\n",
      "  (632, 305)\t0.24642381702102958\n",
      "  (632, 241)\t0.15179541573318736\n",
      "  (633, 643)\t0.6457095618010982\n",
      "  (633, 32)\t0.5795054007565452\n",
      "  (633, 305)\t0.24848459553378066\n",
      "  (633, 970)\t0.4306832456400447\n"
     ]
    }
   ],
   "source": [
    "print(X)"
   ]
  },
  {
   "cell_type": "code",
   "execution_count": 69,
   "metadata": {},
   "outputs": [
    {
     "data": {
      "text/html": [
       "<style>#sk-container-id-21 {color: black;background-color: white;}#sk-container-id-21 pre{padding: 0;}#sk-container-id-21 div.sk-toggleable {background-color: white;}#sk-container-id-21 label.sk-toggleable__label {cursor: pointer;display: block;width: 100%;margin-bottom: 0;padding: 0.3em;box-sizing: border-box;text-align: center;}#sk-container-id-21 label.sk-toggleable__label-arrow:before {content: \"▸\";float: left;margin-right: 0.25em;color: #696969;}#sk-container-id-21 label.sk-toggleable__label-arrow:hover:before {color: black;}#sk-container-id-21 div.sk-estimator:hover label.sk-toggleable__label-arrow:before {color: black;}#sk-container-id-21 div.sk-toggleable__content {max-height: 0;max-width: 0;overflow: hidden;text-align: left;background-color: #f0f8ff;}#sk-container-id-21 div.sk-toggleable__content pre {margin: 0.2em;color: black;border-radius: 0.25em;background-color: #f0f8ff;}#sk-container-id-21 input.sk-toggleable__control:checked~div.sk-toggleable__content {max-height: 200px;max-width: 100%;overflow: auto;}#sk-container-id-21 input.sk-toggleable__control:checked~label.sk-toggleable__label-arrow:before {content: \"▾\";}#sk-container-id-21 div.sk-estimator input.sk-toggleable__control:checked~label.sk-toggleable__label {background-color: #d4ebff;}#sk-container-id-21 div.sk-label input.sk-toggleable__control:checked~label.sk-toggleable__label {background-color: #d4ebff;}#sk-container-id-21 input.sk-hidden--visually {border: 0;clip: rect(1px 1px 1px 1px);clip: rect(1px, 1px, 1px, 1px);height: 1px;margin: -1px;overflow: hidden;padding: 0;position: absolute;width: 1px;}#sk-container-id-21 div.sk-estimator {font-family: monospace;background-color: #f0f8ff;border: 1px dotted black;border-radius: 0.25em;box-sizing: border-box;margin-bottom: 0.5em;}#sk-container-id-21 div.sk-estimator:hover {background-color: #d4ebff;}#sk-container-id-21 div.sk-parallel-item::after {content: \"\";width: 100%;border-bottom: 1px solid gray;flex-grow: 1;}#sk-container-id-21 div.sk-label:hover label.sk-toggleable__label {background-color: #d4ebff;}#sk-container-id-21 div.sk-serial::before {content: \"\";position: absolute;border-left: 1px solid gray;box-sizing: border-box;top: 0;bottom: 0;left: 50%;z-index: 0;}#sk-container-id-21 div.sk-serial {display: flex;flex-direction: column;align-items: center;background-color: white;padding-right: 0.2em;padding-left: 0.2em;position: relative;}#sk-container-id-21 div.sk-item {position: relative;z-index: 1;}#sk-container-id-21 div.sk-parallel {display: flex;align-items: stretch;justify-content: center;background-color: white;position: relative;}#sk-container-id-21 div.sk-item::before, #sk-container-id-21 div.sk-parallel-item::before {content: \"\";position: absolute;border-left: 1px solid gray;box-sizing: border-box;top: 0;bottom: 0;left: 50%;z-index: -1;}#sk-container-id-21 div.sk-parallel-item {display: flex;flex-direction: column;z-index: 1;position: relative;background-color: white;}#sk-container-id-21 div.sk-parallel-item:first-child::after {align-self: flex-end;width: 50%;}#sk-container-id-21 div.sk-parallel-item:last-child::after {align-self: flex-start;width: 50%;}#sk-container-id-21 div.sk-parallel-item:only-child::after {width: 0;}#sk-container-id-21 div.sk-dashed-wrapped {border: 1px dashed gray;margin: 0 0.4em 0.5em 0.4em;box-sizing: border-box;padding-bottom: 0.4em;background-color: white;}#sk-container-id-21 div.sk-label label {font-family: monospace;font-weight: bold;display: inline-block;line-height: 1.2em;}#sk-container-id-21 div.sk-label-container {text-align: center;}#sk-container-id-21 div.sk-container {/* jupyter's `normalize.less` sets `[hidden] { display: none; }` but bootstrap.min.css set `[hidden] { display: none !important; }` so we also need the `!important` here to be able to override the default hidden behavior on the sphinx rendered scikit-learn.org. See: https://github.com/scikit-learn/scikit-learn/issues/21755 */display: inline-block !important;position: relative;}#sk-container-id-21 div.sk-text-repr-fallback {display: none;}</style><div id=\"sk-container-id-21\" class=\"sk-top-container\"><div class=\"sk-text-repr-fallback\"><pre>KMeans(algorithm=&#x27;elkan&#x27;, max_iter=200, n_clusters=15, n_init=&#x27;auto&#x27;)</pre><b>In a Jupyter environment, please rerun this cell to show the HTML representation or trust the notebook. <br />On GitHub, the HTML representation is unable to render, please try loading this page with nbviewer.org.</b></div><div class=\"sk-container\" hidden><div class=\"sk-item\"><div class=\"sk-estimator sk-toggleable\"><input class=\"sk-toggleable__control sk-hidden--visually\" id=\"sk-estimator-id-21\" type=\"checkbox\" checked><label for=\"sk-estimator-id-21\" class=\"sk-toggleable__label sk-toggleable__label-arrow\">KMeans</label><div class=\"sk-toggleable__content\"><pre>KMeans(algorithm=&#x27;elkan&#x27;, max_iter=200, n_clusters=15, n_init=&#x27;auto&#x27;)</pre></div></div></div></div></div>"
      ],
      "text/plain": [
       "KMeans(algorithm='elkan', max_iter=200, n_clusters=15, n_init='auto')"
      ]
     },
     "execution_count": 69,
     "metadata": {},
     "output_type": "execute_result"
    }
   ],
   "source": [
    "true_k = 15\n",
    "model = KMeans(n_clusters=true_k, init='k-means++', max_iter=200, n_init='auto', algorithm=\"elkan\")\n",
    "model.fit(X)"
   ]
  },
  {
   "cell_type": "code",
   "execution_count": 70,
   "metadata": {},
   "outputs": [
    {
     "name": "stdout",
     "output_type": "stream",
     "text": [
      "Top terms per cluster:\n",
      "Cluster 0:\n",
      " quel\n",
      " où\n",
      " quoi\n",
      " plus\n",
      " france\n",
      " là\n",
      " faire\n",
      " peut\n",
      " k4\n",
      " non\n",
      "Cluster 1:\n",
      " peu\n",
      " parents\n",
      " euh\n",
      " famille\n",
      " pouvez\n",
      " près\n",
      " tout\n",
      " maison\n",
      " rodez\n",
      " accord\n",
      "Cluster 2:\n",
      " hum\n",
      " euh\n",
      " comme\n",
      " donc\n",
      " quoi\n",
      " fait\n",
      " enfin\n",
      " appartement\n",
      " type\n",
      " toulouse\n",
      "Cluster 3:\n",
      " fait\n",
      " donc\n",
      " études\n",
      " accord\n",
      " quand\n",
      " euh\n",
      " toulouse\n",
      " quoi\n",
      " où\n",
      " attachée\n",
      "Cluster 4:\n",
      " ville\n",
      " point\n",
      " vue\n",
      " cette\n",
      " quel\n",
      " maison\n",
      " centre\n",
      " voulez\n",
      " différent\n",
      " mentalité\n",
      "Cluster 5:\n",
      " ça\n",
      " comment\n",
      " travail\n",
      " quoi\n",
      " comme\n",
      " donc\n",
      " plus\n",
      " euh\n",
      " k3\n",
      " cela\n",
      "Cluster 6:\n",
      " bien\n",
      " aimez\n",
      " aimes\n",
      " ça\n",
      " aller\n",
      " euh\n",
      " points\n",
      " enfin\n",
      " lille\n",
      " oublié\n",
      "Cluster 7:\n",
      " pourquoi\n",
      " orléans\n",
      " maintenant\n",
      " madame\n",
      " rester\n",
      " trouver\n",
      " dites\n",
      " rien\n",
      " particuliers\n",
      " k4\n",
      "Cluster 8:\n",
      " voyez\n",
      " vendôme\n",
      " famille\n",
      " concret\n",
      " grosses\n",
      " beaucoup\n",
      " différences\n",
      " père\n",
      " sociale\n",
      " grâce\n",
      "Cluster 9:\n",
      " k2\n",
      " pourquoi\n",
      " oui\n",
      " distillerie\n",
      " employez\n",
      " facilement\n",
      " psychologiques\n",
      " femmes\n",
      " permet\n",
      " cycle\n",
      "Cluster 10:\n",
      " alors\n",
      " quoi\n",
      " ètes\n",
      " passé\n",
      " coopération\n",
      " ronsard\n",
      " internat\n",
      " faut\n",
      " là\n",
      " maintenant\n",
      "Cluster 11:\n",
      " collège\n",
      " contre\n",
      " gardez\n",
      " carcassonne\n",
      " souvenir\n",
      " ambiance\n",
      " après\n",
      " limoux\n",
      " très\n",
      " euh\n",
      "Cluster 12:\n",
      " euh\n",
      " école\n",
      " après\n",
      " donc\n",
      " lycée\n",
      " fait\n",
      " chez\n",
      " autrement\n",
      " vraiment\n",
      " quelle\n",
      "Cluster 13:\n",
      " k1\n",
      " non\n",
      " actuellement\n",
      " moment\n",
      " pourquoi\n",
      " école\n",
      " montrer\n",
      " éclectiques\n",
      " enseignez\n",
      " content\n",
      "Cluster 14:\n",
      " aussi\n",
      " oui\n",
      " père\n",
      " mère\n",
      " oeuvres\n",
      " vu\n",
      " hm\n",
      " mirail\n",
      " k4\n",
      " non\n"
     ]
    }
   ],
   "source": [
    "print(\"Top terms per cluster:\")\n",
    "order_centroids = model.cluster_centers_.argsort()[:, ::-1]\n",
    "terms = vectorizer.get_feature_names_out()\n",
    "# faire un dico avec clusters + tops mots\n",
    "top_words = {}\n",
    "for i in range(true_k):\n",
    "    print(\"Cluster %d:\" % i),\n",
    "    for ind in order_centroids[i, :10]:\n",
    "        print(' %s' % terms[ind]),\n",
    "    print"
   ]
  },
  {
   "cell_type": "code",
   "execution_count": 71,
   "metadata": {},
   "outputs": [
    {
     "name": "stdout",
     "output_type": "stream",
     "text": [
      "\n",
      "\n",
      "Prediction\n",
      "[0]\n",
      "[7]\n"
     ]
    }
   ],
   "source": [
    "print(\"\\n\")\n",
    "print(\"Prediction\")\n",
    "\n",
    "Y = vectorizer.transform([\"où\"])\n",
    "prediction = model.predict(Y)\n",
    "print(prediction)\n",
    "\n",
    "Y = vectorizer.transform([\"pourquoi\"])\n",
    "prediction = model.predict(Y)\n",
    "print(prediction)"
   ]
  }
 ],
 "metadata": {
  "kernelspec": {
   "display_name": "Python 3 (ipykernel)",
   "language": "python",
   "name": "python3"
  },
  "language_info": {
   "codemirror_mode": {
    "name": "ipython",
    "version": 3
   },
   "file_extension": ".py",
   "mimetype": "text/x-python",
   "name": "python",
   "nbconvert_exporter": "python",
   "pygments_lexer": "ipython3",
   "version": "3.10.6"
  },
  "vscode": {
   "interpreter": {
    "hash": "916dbcbb3f70747c44a77c7bcd40155683ae19c65e1c03b4aa3499c5328201f1"
   }
  }
 },
 "nbformat": 4,
 "nbformat_minor": 2
}
