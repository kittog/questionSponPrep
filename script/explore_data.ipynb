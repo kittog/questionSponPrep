{
 "cells": [
  {
   "attachments": {},
   "cell_type": "markdown",
   "metadata": {},
   "source": [
    "## Exploration des données\n",
    "> Corpus : all_questions.xlsx \n",
    "\n",
    "Fichier format excel."
   ]
  },
  {
   "cell_type": "code",
   "execution_count": 1,
   "metadata": {},
   "outputs": [],
   "source": [
    "# import modules\n",
    "import pandas as pd\n",
    "import numpy as np"
   ]
  },
  {
   "cell_type": "code",
   "execution_count": 17,
   "metadata": {},
   "outputs": [
    {
     "data": {
      "text/html": [
       "<div>\n",
       "<style scoped>\n",
       "    .dataframe tbody tr th:only-of-type {\n",
       "        vertical-align: middle;\n",
       "    }\n",
       "\n",
       "    .dataframe tbody tr th {\n",
       "        vertical-align: top;\n",
       "    }\n",
       "\n",
       "    .dataframe thead th {\n",
       "        text-align: right;\n",
       "    }\n",
       "</style>\n",
       "<table border=\"1\" class=\"dataframe\">\n",
       "  <thead>\n",
       "    <tr style=\"text-align: right;\">\n",
       "      <th></th>\n",
       "      <th>id</th>\n",
       "      <th>previous_5_turn</th>\n",
       "      <th>question</th>\n",
       "      <th>next_5_turn</th>\n",
       "      <th>categorie</th>\n",
       "      <th>annotateur</th>\n",
       "      <th>commentaire</th>\n",
       "      <th>Unnamed: 7</th>\n",
       "      <th>Unnamed: 8</th>\n",
       "      <th>Unnamed: 9</th>\n",
       "      <th>Unnamed: 10</th>\n",
       "      <th>Unnamed: 11</th>\n",
       "      <th>Unnamed: 12</th>\n",
       "    </tr>\n",
       "  </thead>\n",
       "  <tbody>\n",
       "    <tr>\n",
       "      <th>0</th>\n",
       "      <td>1</td>\n",
       "      <td>#spk4 : monsieur</td>\n",
       "      <td>#spk4 : depuis combien de temps habitez-vous O...</td>\n",
       "      <td>#spk1 : oh ça fait neuf ans depuis dix neuf ce...</td>\n",
       "      <td>préparé</td>\n",
       "      <td>Valentin</td>\n",
       "      <td>NaN</td>\n",
       "      <td>NaN</td>\n",
       "      <td>NaN</td>\n",
       "      <td>préparé</td>\n",
       "      <td>spontané</td>\n",
       "      <td>non-question</td>\n",
       "      <td>poubelle</td>\n",
       "    </tr>\n",
       "    <tr>\n",
       "      <th>1</th>\n",
       "      <td>2</td>\n",
       "      <td>#spk4 : monsieur | #spk4 : depuis combien de t...</td>\n",
       "      <td>#spk4 : vous vous plaisez à  Orléans ?</td>\n",
       "      <td>#spk4 : pourquoi ça ? | #spk1 : bah parce que ...</td>\n",
       "      <td>préparé</td>\n",
       "      <td>Valentin</td>\n",
       "      <td>NaN</td>\n",
       "      <td>NaN</td>\n",
       "      <td>NaN</td>\n",
       "      <td>494</td>\n",
       "      <td>745</td>\n",
       "      <td>292</td>\n",
       "      <td>262</td>\n",
       "    </tr>\n",
       "    <tr>\n",
       "      <th>2</th>\n",
       "      <td>3</td>\n",
       "      <td>#spk4 : monsieur | #spk4 : depuis combien de t...</td>\n",
       "      <td>#spk4 : pourquoi ça ?</td>\n",
       "      <td>#spk1 : bah parce que // j'ai // j'ai toujours...</td>\n",
       "      <td>spontané</td>\n",
       "      <td>Valentin</td>\n",
       "      <td>NaN</td>\n",
       "      <td>NaN</td>\n",
       "      <td>NaN</td>\n",
       "      <td>NaN</td>\n",
       "      <td>NaN</td>\n",
       "      <td>NaN</td>\n",
       "      <td>NaN</td>\n",
       "    </tr>\n",
       "    <tr>\n",
       "      <th>3</th>\n",
       "      <td>4</td>\n",
       "      <td>#spk1 : oh ça fait neuf ans depuis dix neuf ce...</td>\n",
       "      <td>#spk4 : et est-ce que vous comptez rester à  O...</td>\n",
       "      <td>#spk1 : oh je suis obligé par ma profession | ...</td>\n",
       "      <td>préparé</td>\n",
       "      <td>Valentin</td>\n",
       "      <td>NaN</td>\n",
       "      <td>NaN</td>\n",
       "      <td>NaN</td>\n",
       "      <td>NaN</td>\n",
       "      <td>NaN</td>\n",
       "      <td>NaN</td>\n",
       "      <td>NaN</td>\n",
       "    </tr>\n",
       "    <tr>\n",
       "      <th>4</th>\n",
       "      <td>5</td>\n",
       "      <td>#spk1 : bah parce que // j'ai // j'ai toujours...</td>\n",
       "      <td>#spk4 : et qu'est ce que vous faites comme tra...</td>\n",
       "      <td>#spk1 : je suis contrôleur divisionnaire aux P...</td>\n",
       "      <td>spontané</td>\n",
       "      <td>Valentin</td>\n",
       "      <td>NaN</td>\n",
       "      <td>NaN</td>\n",
       "      <td>NaN</td>\n",
       "      <td>NaN</td>\n",
       "      <td>NaN</td>\n",
       "      <td>NaN</td>\n",
       "      <td>NaN</td>\n",
       "    </tr>\n",
       "  </tbody>\n",
       "</table>\n",
       "</div>"
      ],
      "text/plain": [
       "   id                                    previous_5_turn  \\\n",
       "0   1                                   #spk4 : monsieur   \n",
       "1   2  #spk4 : monsieur | #spk4 : depuis combien de t...   \n",
       "2   3  #spk4 : monsieur | #spk4 : depuis combien de t...   \n",
       "3   4  #spk1 : oh ça fait neuf ans depuis dix neuf ce...   \n",
       "4   5  #spk1 : bah parce que // j'ai // j'ai toujours...   \n",
       "\n",
       "                                            question  \\\n",
       "0  #spk4 : depuis combien de temps habitez-vous O...   \n",
       "1             #spk4 : vous vous plaisez à  Orléans ?   \n",
       "2                              #spk4 : pourquoi ça ?   \n",
       "3  #spk4 : et est-ce que vous comptez rester à  O...   \n",
       "4  #spk4 : et qu'est ce que vous faites comme tra...   \n",
       "\n",
       "                                         next_5_turn categorie annotateur  \\\n",
       "0  #spk1 : oh ça fait neuf ans depuis dix neuf ce...   préparé   Valentin   \n",
       "1  #spk4 : pourquoi ça ? | #spk1 : bah parce que ...   préparé   Valentin   \n",
       "2  #spk1 : bah parce que // j'ai // j'ai toujours...  spontané   Valentin   \n",
       "3  #spk1 : oh je suis obligé par ma profession | ...   préparé   Valentin   \n",
       "4  #spk1 : je suis contrôleur divisionnaire aux P...  spontané   Valentin   \n",
       "\n",
       "   commentaire  Unnamed: 7  Unnamed: 8 Unnamed: 9 Unnamed: 10   Unnamed: 11  \\\n",
       "0          NaN         NaN         NaN    préparé    spontané  non-question   \n",
       "1          NaN         NaN         NaN        494         745           292   \n",
       "2          NaN         NaN         NaN        NaN         NaN           NaN   \n",
       "3          NaN         NaN         NaN        NaN         NaN           NaN   \n",
       "4          NaN         NaN         NaN        NaN         NaN           NaN   \n",
       "\n",
       "  Unnamed: 12  \n",
       "0    poubelle  \n",
       "1         262  \n",
       "2         NaN  \n",
       "3         NaN  \n",
       "4         NaN  "
      ]
     },
     "execution_count": 17,
     "metadata": {},
     "output_type": "execute_result"
    }
   ],
   "source": [
    "# dataframe\n",
    "df = pd.read_excel(\"../corpus/all_questions.xlsx\")\n",
    "df.head()"
   ]
  },
  {
   "cell_type": "code",
   "execution_count": 18,
   "metadata": {},
   "outputs": [
    {
     "data": {
      "text/plain": [
       "(4307, 13)"
      ]
     },
     "execution_count": 18,
     "metadata": {},
     "output_type": "execute_result"
    }
   ],
   "source": [
    "# étiquettes questions\n",
    "df[\"categorie\"].unique()\n",
    "df.shape"
   ]
  },
  {
   "cell_type": "code",
   "execution_count": 14,
   "metadata": {},
   "outputs": [],
   "source": [
    "# deux colonnes index: il faut en supprimer une\n",
    "df.reset_index(drop=True, inplace=True)\n",
    "df = df.drop(\"id\", axis=1)"
   ]
  },
  {
   "cell_type": "code",
   "execution_count": 15,
   "metadata": {},
   "outputs": [
    {
     "data": {
      "text/html": [
       "<div>\n",
       "<style scoped>\n",
       "    .dataframe tbody tr th:only-of-type {\n",
       "        vertical-align: middle;\n",
       "    }\n",
       "\n",
       "    .dataframe tbody tr th {\n",
       "        vertical-align: top;\n",
       "    }\n",
       "\n",
       "    .dataframe thead th {\n",
       "        text-align: right;\n",
       "    }\n",
       "</style>\n",
       "<table border=\"1\" class=\"dataframe\">\n",
       "  <thead>\n",
       "    <tr style=\"text-align: right;\">\n",
       "      <th></th>\n",
       "      <th>previous_5_turn</th>\n",
       "      <th>question</th>\n",
       "      <th>next_5_turn</th>\n",
       "      <th>categorie</th>\n",
       "      <th>annotateur</th>\n",
       "    </tr>\n",
       "  </thead>\n",
       "  <tbody>\n",
       "    <tr>\n",
       "      <th>0</th>\n",
       "      <td>#spk4 : monsieur</td>\n",
       "      <td>depuis combien de temps habitez-vous Orléans ?</td>\n",
       "      <td>#spk1 : oh ça fait neuf ans depuis dix neuf ce...</td>\n",
       "      <td>préparé</td>\n",
       "      <td>Valentin</td>\n",
       "    </tr>\n",
       "    <tr>\n",
       "      <th>1</th>\n",
       "      <td>#spk4 : monsieur | #spk4 : depuis combien de t...</td>\n",
       "      <td>vous vous plaisez à  Orléans ?</td>\n",
       "      <td>#spk4 : pourquoi ça ? | #spk1 : bah parce que ...</td>\n",
       "      <td>préparé</td>\n",
       "      <td>Valentin</td>\n",
       "    </tr>\n",
       "    <tr>\n",
       "      <th>2</th>\n",
       "      <td>#spk4 : monsieur | #spk4 : depuis combien de t...</td>\n",
       "      <td>pourquoi ça ?</td>\n",
       "      <td>#spk1 : bah parce que // j'ai // j'ai toujours...</td>\n",
       "      <td>spontané</td>\n",
       "      <td>Valentin</td>\n",
       "    </tr>\n",
       "    <tr>\n",
       "      <th>3</th>\n",
       "      <td>#spk1 : oh ça fait neuf ans depuis dix neuf ce...</td>\n",
       "      <td>et est-ce que vous comptez rester à  Orléans ?</td>\n",
       "      <td>#spk1 : oh je suis obligé par ma profession | ...</td>\n",
       "      <td>préparé</td>\n",
       "      <td>Valentin</td>\n",
       "    </tr>\n",
       "    <tr>\n",
       "      <th>4</th>\n",
       "      <td>#spk1 : bah parce que // j'ai // j'ai toujours...</td>\n",
       "      <td>et qu'est ce que vous faites comme travail ?</td>\n",
       "      <td>#spk1 : je suis contrôleur divisionnaire aux P...</td>\n",
       "      <td>spontané</td>\n",
       "      <td>Valentin</td>\n",
       "    </tr>\n",
       "  </tbody>\n",
       "</table>\n",
       "</div>"
      ],
      "text/plain": [
       "                                     previous_5_turn  \\\n",
       "0                                   #spk4 : monsieur   \n",
       "1  #spk4 : monsieur | #spk4 : depuis combien de t...   \n",
       "2  #spk4 : monsieur | #spk4 : depuis combien de t...   \n",
       "3  #spk1 : oh ça fait neuf ans depuis dix neuf ce...   \n",
       "4  #spk1 : bah parce que // j'ai // j'ai toujours...   \n",
       "\n",
       "                                         question  \\\n",
       "0  depuis combien de temps habitez-vous Orléans ?   \n",
       "1                  vous vous plaisez à  Orléans ?   \n",
       "2                                   pourquoi ça ?   \n",
       "3  et est-ce que vous comptez rester à  Orléans ?   \n",
       "4    et qu'est ce que vous faites comme travail ?   \n",
       "\n",
       "                                         next_5_turn categorie annotateur  \n",
       "0  #spk1 : oh ça fait neuf ans depuis dix neuf ce...   préparé   Valentin  \n",
       "1  #spk4 : pourquoi ça ? | #spk1 : bah parce que ...   préparé   Valentin  \n",
       "2  #spk1 : bah parce que // j'ai // j'ai toujours...  spontané   Valentin  \n",
       "3  #spk1 : oh je suis obligé par ma profession | ...   préparé   Valentin  \n",
       "4  #spk1 : je suis contrôleur divisionnaire aux P...  spontané   Valentin  "
      ]
     },
     "execution_count": 15,
     "metadata": {},
     "output_type": "execute_result"
    }
   ],
   "source": [
    "# suppression des colonnes inutiles\n",
    "df = df.drop(df.filter(regex=(\"Unnamed:|commentaire\")), axis=1)\n",
    "df = df.fillna(0)\n",
    "\n",
    "# supression des #spk :\n",
    "for i in range(len(df[\"question\"])):\n",
    "    df[\"question\"][i] = df[\"question\"][i][8:]\n",
    "df.head()"
   ]
  },
  {
   "cell_type": "code",
   "execution_count": 6,
   "metadata": {},
   "outputs": [
    {
     "name": "stdout",
     "output_type": "stream",
     "text": [
      "Ce corpus est constitué de 1239 questions spontannées et préparées.\n",
      "Ce corpus est constitué de 494 questions préparées.\n",
      "Ce corpus est constitué de 745 questions spontannées.\n",
      "Ce corpus est constitué de 262 questions poubelle.\n",
      "Ce corpus est constitué de 292 non-questions.\n"
     ]
    }
   ],
   "source": [
    "tot = np.sum(df[\"categorie\"] == \"préparé\") + np.sum(df[\"categorie\"] == \"spontané\")\n",
    "prep = np.sum(df[\"categorie\"] == \"préparé\")\n",
    "spon = np.sum(df[\"categorie\"] == \"spontané\")\n",
    "bin = np.sum(df[\"categorie\"] == \"poubelle\")\n",
    "non_q = np.sum(df[\"categorie\"] == \"non-question\")\n",
    "print(f'Ce corpus est constitué de {tot} questions spontannées et préparées.')\n",
    "print(f'Ce corpus est constitué de {prep} questions préparées.')\n",
    "print(f'Ce corpus est constitué de {spon} questions spontannées.')\n",
    "print(f'Ce corpus est constitué de {bin} questions poubelle.')\n",
    "print(f'Ce corpus est constitué de {non_q} non-questions.')"
   ]
  },
  {
   "cell_type": "code",
   "execution_count": 16,
   "metadata": {},
   "outputs": [
    {
     "name": "stdout",
     "output_type": "stream",
     "text": [
      "Dans ce corpus, on a un total de 2359 questions non annotées par un annotateur.\n"
     ]
    }
   ],
   "source": [
    "ann = df[\"annotateur\"] != 0\n",
    "miss_ann = np.sum(df[\"annotateur\"] == 0)\n",
    "print(f\"Dans ce corpus, on a un total de {miss_ann} questions non annotées par un annotateur.\")\n",
    "df = df[ann]"
   ]
  },
  {
   "cell_type": "code",
   "execution_count": 11,
   "metadata": {},
   "outputs": [
    {
     "data": {
      "text/plain": [
       "(1948, 5)"
      ]
     },
     "execution_count": 11,
     "metadata": {},
     "output_type": "execute_result"
    }
   ],
   "source": [
    "df.shape"
   ]
  },
  {
   "cell_type": "code",
   "execution_count": 8,
   "metadata": {},
   "outputs": [],
   "source": [
    "# sauvegarde au format csv\n",
    "df.reset_index(drop=True, inplace=True)\n",
    "df.to_csv(\"../data/corpus_clean.csv\")"
   ]
  },
  {
   "cell_type": "code",
   "execution_count": 9,
   "metadata": {},
   "outputs": [],
   "source": [
    "# deux sous corpus\n",
    "prep = df[df[\"categorie\"] == \"préparé\"]\n",
    "prep.reset_index(drop=True, inplace=True)\n",
    "prep.to_csv(\"../data/corpus_prep.csv\")\n",
    "spon = df[df[\"categorie\"] == \"spontané\"]\n",
    "spon.reset_index(drop=True, inplace=True)\n",
    "spon.to_csv(\"../data/corpus_spon.csv\")"
   ]
  },
  {
   "cell_type": "code",
   "execution_count": 10,
   "metadata": {},
   "outputs": [
    {
     "name": "stdout",
     "output_type": "stream",
     "text": [
      "Ce corpus est constitué de 1079 questions spontannées et préparées.\n",
      "Ce corpus est constitué de 515 questions poubelle et non-question\n"
     ]
    }
   ],
   "source": [
    "tot = np.sum(df[\"categorie\"] == \"préparé\") + np.sum(df[\"categorie\"] == \"spontané\")\n",
    "bin = np.sum(df[\"categorie\"] == \"poubelle\") + np.sum(df[\"categorie\"] == \"non-question\")\n",
    "print(f'Ce corpus est constitué de {tot} questions spontannées et préparées.')\n",
    "print(f'Ce corpus est constitué de {bin} questions poubelle et non-question')"
   ]
  }
 ],
 "metadata": {
  "kernelspec": {
   "display_name": "Python 3",
   "language": "python",
   "name": "python3"
  },
  "language_info": {
   "codemirror_mode": {
    "name": "ipython",
    "version": 3
   },
   "file_extension": ".py",
   "mimetype": "text/x-python",
   "name": "python",
   "nbconvert_exporter": "python",
   "pygments_lexer": "ipython3",
   "version": "3.10.6"
  },
  "orig_nbformat": 4,
  "vscode": {
   "interpreter": {
    "hash": "916dbcbb3f70747c44a77c7bcd40155683ae19c65e1c03b4aa3499c5328201f1"
   }
  }
 },
 "nbformat": 4,
 "nbformat_minor": 2
}
