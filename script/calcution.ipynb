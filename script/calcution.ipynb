{
 "cells": [
  {
   "cell_type": "code",
   "execution_count": 1,
   "id": "95ce9036",
   "metadata": {},
   "outputs": [],
   "source": [
    "import re\n"
   ]
  },
  {
   "cell_type": "code",
   "execution_count": 3,
   "id": "60d56082",
   "metadata": {},
   "outputs": [
    {
     "name": "stdout",
     "output_type": "stream",
     "text": [
      "Fréquence de 'est-ce que' dans le corpus : \n",
      "est-ce que : 206\n"
     ]
    }
   ],
   "source": [
    "from collections import Counter\n",
    "\n",
    "# Ouvrir le fichier de corpus\n",
    "with open(\"questions_prepare_clean.txt\", \"r\", encoding=\"utf-8\") as f:\n",
    "    corpus = f.read()\n",
    "\n",
    "# Trouver tous les \"est-ce que\"\n",
    "estceque_list = re.findall(r\"\\best-ce que\\b\", corpus)\n",
    "\n",
    "# Compter leur fréquence\n",
    "estceque_count = Counter(estceque_list)\n",
    "\n",
    "# Afficher les résultats\n",
    "print(\"Fréquence de 'est-ce que' dans le corpus : \")\n",
    "for estceque, count in estceque_count.items():\n",
    "    print(f\"{estceque} : {count}\")\n"
   ]
  },
  {
   "cell_type": "code",
   "execution_count": 4,
   "id": "1780962a",
   "metadata": {},
   "outputs": [
    {
     "name": "stdout",
     "output_type": "stream",
     "text": [
      "Fréquence de 'est-ce que' dans le corpus : \n",
      "est-ce que : 101\n"
     ]
    }
   ],
   "source": [
    "# Ouvrir le fichier de corpus\n",
    "with open(\"questions_spontané_clean.txt\", \"r\", encoding=\"utf-8\") as f:\n",
    "    corpus = f.read()\n",
    "\n",
    "# Trouver tous les \"est-ce que\"\n",
    "estceque_list = re.findall(r\"\\best-ce que\\b\", corpus)\n",
    "\n",
    "# Compter leur fréquence\n",
    "estceque_count = Counter(estceque_list)\n",
    "\n",
    "# Afficher les résultats\n",
    "print(\"Fréquence de 'est-ce que' dans le corpus : \")\n",
    "for estceque, count in estceque_count.items():\n",
    "    print(f\"{estceque} : {count}\")\n"
   ]
  },
  {
   "cell_type": "code",
   "execution_count": 10,
   "id": "2229a1cc",
   "metadata": {},
   "outputs": [
    {
     "name": "stdout",
     "output_type": "stream",
     "text": [
      "Nombre total de mots : 7431\n",
      "Nombre de disfluences : 454\n",
      "Ratio de disfluences : 0.061095411115596826\n"
     ]
    }
   ],
   "source": [
    "import re\n",
    "with open(\"questions_spontané_clean.txt\", \"r\", encoding=\"utf-8\") as f:\n",
    "    corpus = f.read()\n",
    "\n",
    "# définir les motifs des disfluences\n",
    "disf_patterns = ['euh', 'heu', 'bah', 'ben', 'donc', 'voilà','genre','alors','hein','comme',\n",
    "                 'bon','enfin','bref','quoi','ah']\n",
    "\n",
    "# compter le nombre de mots dans le texte\n",
    "total_words = len(corpus.split())\n",
    "\n",
    "# compter le nombre de disfluences\n",
    "disf_count = len(re.findall(r'\\b(?:%s)\\b' % '|'.join(disf_patterns), corpus))\n",
    "\n",
    "# calculer le ratio de disfluences\n",
    "disf_ratio = disf_count / total_words\n",
    "\n",
    "# afficher les résultats\n",
    "print(\"Nombre total de mots :\", total_words)\n",
    "print(\"Nombre de disfluences :\", disf_count)\n",
    "print(\"Ratio de disfluences :\", disf_ratio)\n"
   ]
  },
  {
   "cell_type": "code",
   "execution_count": 11,
   "id": "4a044cfe",
   "metadata": {},
   "outputs": [
    {
     "name": "stdout",
     "output_type": "stream",
     "text": [
      "Nombre total de mots : 6001\n",
      "Nombre de disfluences : 315\n",
      "Ratio de disfluences : 0.05249125145809032\n"
     ]
    }
   ],
   "source": [
    "with open(\"questions_prepare_clean.txt\", \"r\", encoding=\"utf-8\") as f:\n",
    "    corpus = f.read()\n",
    "\n",
    "# définir les motifs des disfluences\n",
    "disf_patterns = ['euh', 'heu', 'bah', 'ben', 'donc', 'voilà','genre','alors','hein','comme',\n",
    "                 'bon','enfin','bref','quoi','ah']\n",
    "\n",
    "# compter le nombre de mots dans le texte\n",
    "total_words = len(corpus.split())\n",
    "\n",
    "# compter le nombre de disfluences\n",
    "disf_count = len(re.findall(r'\\b(?:%s)\\b' % '|'.join(disf_patterns), corpus))\n",
    "\n",
    "# calculer le ratio de disfluences\n",
    "disf_ratio = disf_count / total_words\n",
    "\n",
    "# afficher les résultats\n",
    "print(\"Nombre total de mots :\", total_words)\n",
    "print(\"Nombre de disfluences :\", disf_count)\n",
    "print(\"Ratio de disfluences :\", disf_ratio)\n"
   ]
  },
  {
   "cell_type": "code",
   "execution_count": null,
   "id": "20406cd6",
   "metadata": {},
   "outputs": [],
   "source": []
  }
 ],
 "metadata": {
  "kernelspec": {
   "display_name": "Python 3 (ipykernel)",
   "language": "python",
   "name": "python3"
  },
  "language_info": {
   "codemirror_mode": {
    "name": "ipython",
    "version": 3
   },
   "file_extension": ".py",
   "mimetype": "text/x-python",
   "name": "python",
   "nbconvert_exporter": "python",
   "pygments_lexer": "ipython3",
   "version": "3.9.13"
  }
 },
 "nbformat": 4,
 "nbformat_minor": 5
}
