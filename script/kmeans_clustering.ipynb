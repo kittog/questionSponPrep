{
 "cells": [
  {
   "attachments": {},
   "cell_type": "markdown",
   "metadata": {},
   "source": [
    "## K-means clustering\n",
    "> on cherche des méthodes d'apprentissage non-supervisés. on commence avec le k-means clustering car c'est la + simple. déjà des exemples dans le cas du TAL/NLP."
   ]
  },
  {
   "cell_type": "code",
   "execution_count": 1,
   "metadata": {},
   "outputs": [],
   "source": [
    "import pandas as pd\n",
    "import numpy as np\n",
    "import matplotlib.pyplot as plt\n",
    "from sklearn.cluster import KMeans\n",
    "%matplotlib inline"
   ]
  },
  {
   "cell_type": "code",
   "execution_count": 7,
   "metadata": {},
   "outputs": [
    {
     "name": "stdout",
     "output_type": "stream",
     "text": [
      "['k4 : tous les détails ?', \"alors c'est une journée assez longue ?\", \"qu'est-ce qui vous plaît dans votre travail ?\", 'k1 : déplait ?', \"et si vous n'étiez pas postier ?\", \"k1 : qu'est ce que vous aimeriez faire ?\", 'bon moi je bricole beaucoup hein ?']\n"
     ]
    }
   ],
   "source": [
    "# load corpus\n",
    "df = pd.read_csv(\"../data/corpus_clean.csv\")\n",
    "q = df[\"question\"].tolist()\n",
    "print(q[8:15])\n",
    "\n",
    "# note : des fois, reste de spk4 spk1 (sur certaines questions il y en a deux)"
   ]
  }
 ],
 "metadata": {
  "kernelspec": {
   "display_name": "Python 3",
   "language": "python",
   "name": "python3"
  },
  "language_info": {
   "codemirror_mode": {
    "name": "ipython",
    "version": 3
   },
   "file_extension": ".py",
   "mimetype": "text/x-python",
   "name": "python",
   "nbconvert_exporter": "python",
   "pygments_lexer": "ipython3",
   "version": "3.10.6"
  },
  "orig_nbformat": 4,
  "vscode": {
   "interpreter": {
    "hash": "916dbcbb3f70747c44a77c7bcd40155683ae19c65e1c03b4aa3499c5328201f1"
   }
  }
 },
 "nbformat": 4,
 "nbformat_minor": 2
}
